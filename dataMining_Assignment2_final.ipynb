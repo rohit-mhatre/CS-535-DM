{
  "nbformat": 4,
  "nbformat_minor": 0,
  "metadata": {
    "colab": {
      "provenance": [],
      "authorship_tag": "ABX9TyNmi8P26Rqfk0HxuT4INyUP",
      "include_colab_link": true
    },
    "kernelspec": {
      "name": "python3",
      "display_name": "Python 3"
    },
    "language_info": {
      "name": "python"
    }
  },
  "cells": [
    {
      "cell_type": "markdown",
      "metadata": {
        "id": "view-in-github",
        "colab_type": "text"
      },
      "source": [
        "<a href=\"https://colab.research.google.com/github/rohit-mhatre/CS-535-DM/blob/main/dataMining_Assignment2_final.ipynb\" target=\"_parent\"><img src=\"https://colab.research.google.com/assets/colab-badge.svg\" alt=\"Open In Colab\"/></a>"
      ]
    },
    {
      "cell_type": "markdown",
      "source": [
        "problem 1"
      ],
      "metadata": {
        "id": "WWxU6Iebmyqw"
      }
    },
    {
      "cell_type": "code",
      "execution_count": null,
      "metadata": {
        "id": "XRa8WlCgBZZl"
      },
      "outputs": [],
      "source": [
        "import pandas as pd\n"
      ]
    },
    {
      "cell_type": "code",
      "source": [
        "# Load data from adult.data and adult.test files\n",
        "columns = [\n",
        "    \"age\", \"workclass\", \"fnlwgt\", \"education\", \"education-num\", \"marital-status\",\n",
        "    \"occupation\", \"relationship\", \"race\", \"sex\", \"capital-gain\", \"capital-loss\",\n",
        "    \"hours-per-week\", \"native-country\", \"income\"\n",
        "]"
      ],
      "metadata": {
        "id": "oLb4khSPBrgW"
      },
      "execution_count": null,
      "outputs": []
    },
    {
      "cell_type": "code",
      "source": [
        "train_data = pd.read_csv(\"adult.data\", names=columns, na_values=[\" ?\", \"?\"])\n",
        "test_data = pd.read_csv(\"adult.test\", names=columns, na_values=[\" ?\", \"?\"])"
      ],
      "metadata": {
        "id": "NNKWZ0XNBuBt"
      },
      "execution_count": null,
      "outputs": []
    },
    {
      "cell_type": "code",
      "source": [
        "# Merge the datasets for cleaning\n",
        "combined_data = pd.concat([train_data, test_data], ignore_index=True)"
      ],
      "metadata": {
        "id": "i0F8v8BJBwel"
      },
      "execution_count": null,
      "outputs": []
    },
    {
      "cell_type": "code",
      "source": [
        "# Handle missing values\n",
        "# You can handle missing values using techniques like dropping rows, imputation, etc.\n",
        "# For simplicity, let's drop rows with missing values in this example\n",
        "combined_data.dropna(inplace=True)"
      ],
      "metadata": {
        "id": "8LG4FwZ3ByoD"
      },
      "execution_count": null,
      "outputs": []
    },
    {
      "cell_type": "code",
      "source": [
        "# Preprocess the data (e.g., convert categorical variables to numerical)\n",
        "# One-hot encoding for categorical variables\n",
        "combined_data = pd.get_dummies(combined_data, columns=[\n",
        "    \"workclass\", \"education\", \"marital-status\", \"occupation\",\n",
        "    \"relationship\", \"race\", \"sex\", \"native-country\"\n",
        "])"
      ],
      "metadata": {
        "id": "lNBzVmitB1Dd"
      },
      "execution_count": null,
      "outputs": []
    },
    {
      "cell_type": "code",
      "source": [
        "# Convert income column to binary labels (0 for <=50K, 1 for >50K)\n",
        "combined_data[\"income\"] = combined_data[\"income\"].apply(lambda x: 0 if x == \" <=50K\" else 1)"
      ],
      "metadata": {
        "id": "dNppv24aB4-1"
      },
      "execution_count": null,
      "outputs": []
    },
    {
      "cell_type": "code",
      "source": [
        "# Split data back into train and test sets\n",
        "train_cleaned = combined_data.iloc[:train_data.shape[0]]\n",
        "test_cleaned = combined_data.iloc[train_data.shape[0]:]"
      ],
      "metadata": {
        "id": "KpuJWkbiB-Px"
      },
      "execution_count": null,
      "outputs": []
    },
    {
      "cell_type": "code",
      "source": [
        "# Save cleaned data to new files if needed\n",
        "train_cleaned.to_csv(\"cleaned_adult_train.csv\", index=False)\n",
        "test_cleaned.to_csv(\"cleaned_adult_test.csv\", index=False)"
      ],
      "metadata": {
        "id": "4iVd0JbuCAvt"
      },
      "execution_count": null,
      "outputs": []
    },
    {
      "cell_type": "code",
      "source": [
        "print(\"Data cleaning and preprocessing completed.\")\n"
      ],
      "metadata": {
        "colab": {
          "base_uri": "https://localhost:8080/"
        },
        "id": "hJx9u-r4CDma",
        "outputId": "60045b6b-0e14-40a9-c9f0-cf9784db8ec0"
      },
      "execution_count": null,
      "outputs": [
        {
          "output_type": "stream",
          "name": "stdout",
          "text": [
            "Data cleaning and preprocessing completed.\n"
          ]
        }
      ]
    },
    {
      "cell_type": "markdown",
      "source": [
        "problem 2:"
      ],
      "metadata": {
        "id": "-t8g_1Mgmw8L"
      }
    },
    {
      "cell_type": "code",
      "source": [
        "import pandas as pd\n",
        "from sklearn.ensemble import RandomForestClassifier\n",
        "from sklearn.metrics import accuracy_score"
      ],
      "metadata": {
        "id": "3EcI9YZbmt9q"
      },
      "execution_count": 17,
      "outputs": []
    },
    {
      "cell_type": "code",
      "source": [
        "# Load cleaned training and evaluation datasets\n",
        "train_data = pd.read_csv(\"cleaned_adult_train.csv\")\n",
        "eval_data = pd.read_csv(\"cleaned_adult_test.csv\")"
      ],
      "metadata": {
        "id": "uifXG_9Pm5-2"
      },
      "execution_count": 18,
      "outputs": []
    },
    {
      "cell_type": "code",
      "source": [
        "# Separate features and labels\n",
        "X_train = train_data.drop(columns=[\"income\"])\n",
        "y_train = train_data[\"income\"]\n",
        "X_eval = eval_data.drop(columns=[\"income\"])\n",
        "y_eval = eval_data[\"income\"]"
      ],
      "metadata": {
        "id": "Q1yWN8RmnFpv"
      },
      "execution_count": 19,
      "outputs": []
    },
    {
      "cell_type": "code",
      "source": [
        "# Initialize and train Random Forest classifier\n",
        "rf_classifier = RandomForestClassifier(n_estimators=100, random_state=42)\n",
        "rf_classifier.fit(X_train, y_train)"
      ],
      "metadata": {
        "colab": {
          "base_uri": "https://localhost:8080/",
          "height": 74
        },
        "id": "upng0OmEnJMw",
        "outputId": "a2b3e049-25da-4470-805c-ca43191ea6d6"
      },
      "execution_count": 20,
      "outputs": [
        {
          "output_type": "execute_result",
          "data": {
            "text/plain": [
              "RandomForestClassifier(random_state=42)"
            ],
            "text/html": [
              "<style>#sk-container-id-2 {color: black;background-color: white;}#sk-container-id-2 pre{padding: 0;}#sk-container-id-2 div.sk-toggleable {background-color: white;}#sk-container-id-2 label.sk-toggleable__label {cursor: pointer;display: block;width: 100%;margin-bottom: 0;padding: 0.3em;box-sizing: border-box;text-align: center;}#sk-container-id-2 label.sk-toggleable__label-arrow:before {content: \"▸\";float: left;margin-right: 0.25em;color: #696969;}#sk-container-id-2 label.sk-toggleable__label-arrow:hover:before {color: black;}#sk-container-id-2 div.sk-estimator:hover label.sk-toggleable__label-arrow:before {color: black;}#sk-container-id-2 div.sk-toggleable__content {max-height: 0;max-width: 0;overflow: hidden;text-align: left;background-color: #f0f8ff;}#sk-container-id-2 div.sk-toggleable__content pre {margin: 0.2em;color: black;border-radius: 0.25em;background-color: #f0f8ff;}#sk-container-id-2 input.sk-toggleable__control:checked~div.sk-toggleable__content {max-height: 200px;max-width: 100%;overflow: auto;}#sk-container-id-2 input.sk-toggleable__control:checked~label.sk-toggleable__label-arrow:before {content: \"▾\";}#sk-container-id-2 div.sk-estimator input.sk-toggleable__control:checked~label.sk-toggleable__label {background-color: #d4ebff;}#sk-container-id-2 div.sk-label input.sk-toggleable__control:checked~label.sk-toggleable__label {background-color: #d4ebff;}#sk-container-id-2 input.sk-hidden--visually {border: 0;clip: rect(1px 1px 1px 1px);clip: rect(1px, 1px, 1px, 1px);height: 1px;margin: -1px;overflow: hidden;padding: 0;position: absolute;width: 1px;}#sk-container-id-2 div.sk-estimator {font-family: monospace;background-color: #f0f8ff;border: 1px dotted black;border-radius: 0.25em;box-sizing: border-box;margin-bottom: 0.5em;}#sk-container-id-2 div.sk-estimator:hover {background-color: #d4ebff;}#sk-container-id-2 div.sk-parallel-item::after {content: \"\";width: 100%;border-bottom: 1px solid gray;flex-grow: 1;}#sk-container-id-2 div.sk-label:hover label.sk-toggleable__label {background-color: #d4ebff;}#sk-container-id-2 div.sk-serial::before {content: \"\";position: absolute;border-left: 1px solid gray;box-sizing: border-box;top: 0;bottom: 0;left: 50%;z-index: 0;}#sk-container-id-2 div.sk-serial {display: flex;flex-direction: column;align-items: center;background-color: white;padding-right: 0.2em;padding-left: 0.2em;position: relative;}#sk-container-id-2 div.sk-item {position: relative;z-index: 1;}#sk-container-id-2 div.sk-parallel {display: flex;align-items: stretch;justify-content: center;background-color: white;position: relative;}#sk-container-id-2 div.sk-item::before, #sk-container-id-2 div.sk-parallel-item::before {content: \"\";position: absolute;border-left: 1px solid gray;box-sizing: border-box;top: 0;bottom: 0;left: 50%;z-index: -1;}#sk-container-id-2 div.sk-parallel-item {display: flex;flex-direction: column;z-index: 1;position: relative;background-color: white;}#sk-container-id-2 div.sk-parallel-item:first-child::after {align-self: flex-end;width: 50%;}#sk-container-id-2 div.sk-parallel-item:last-child::after {align-self: flex-start;width: 50%;}#sk-container-id-2 div.sk-parallel-item:only-child::after {width: 0;}#sk-container-id-2 div.sk-dashed-wrapped {border: 1px dashed gray;margin: 0 0.4em 0.5em 0.4em;box-sizing: border-box;padding-bottom: 0.4em;background-color: white;}#sk-container-id-2 div.sk-label label {font-family: monospace;font-weight: bold;display: inline-block;line-height: 1.2em;}#sk-container-id-2 div.sk-label-container {text-align: center;}#sk-container-id-2 div.sk-container {/* jupyter's `normalize.less` sets `[hidden] { display: none; }` but bootstrap.min.css set `[hidden] { display: none !important; }` so we also need the `!important` here to be able to override the default hidden behavior on the sphinx rendered scikit-learn.org. See: https://github.com/scikit-learn/scikit-learn/issues/21755 */display: inline-block !important;position: relative;}#sk-container-id-2 div.sk-text-repr-fallback {display: none;}</style><div id=\"sk-container-id-2\" class=\"sk-top-container\"><div class=\"sk-text-repr-fallback\"><pre>RandomForestClassifier(random_state=42)</pre><b>In a Jupyter environment, please rerun this cell to show the HTML representation or trust the notebook. <br />On GitHub, the HTML representation is unable to render, please try loading this page with nbviewer.org.</b></div><div class=\"sk-container\" hidden><div class=\"sk-item\"><div class=\"sk-estimator sk-toggleable\"><input class=\"sk-toggleable__control sk-hidden--visually\" id=\"sk-estimator-id-2\" type=\"checkbox\" checked><label for=\"sk-estimator-id-2\" class=\"sk-toggleable__label sk-toggleable__label-arrow\">RandomForestClassifier</label><div class=\"sk-toggleable__content\"><pre>RandomForestClassifier(random_state=42)</pre></div></div></div></div></div>"
            ]
          },
          "metadata": {},
          "execution_count": 20
        }
      ]
    },
    {
      "cell_type": "code",
      "source": [
        "# Predict on evaluation dataset\n",
        "y_pred = rf_classifier.predict(X_eval)"
      ],
      "metadata": {
        "id": "FK-3x4TfnSyb"
      },
      "execution_count": 21,
      "outputs": []
    },
    {
      "cell_type": "code",
      "source": [
        "# Calculate classification error rate\n",
        "classification_error_rate = 1 - accuracy_score(y_eval, y_pred)\n"
      ],
      "metadata": {
        "id": "6tcKOLwRnXDJ"
      },
      "execution_count": 22,
      "outputs": []
    },
    {
      "cell_type": "code",
      "source": [
        "# Print classification error rate\n",
        "print(\"Classification Error Rate:\", classification_error_rate)"
      ],
      "metadata": {
        "colab": {
          "base_uri": "https://localhost:8080/"
        },
        "id": "Rb5FbY1pnZcV",
        "outputId": "c2a2fb08-409e-4ff4-9a4e-49ac6cea80c0"
      },
      "execution_count": 23,
      "outputs": [
        {
          "output_type": "stream",
          "name": "stdout",
          "text": [
            "Classification Error Rate: 0.7628939262301556\n"
          ]
        }
      ]
    },
    {
      "cell_type": "markdown",
      "source": [
        "problem 4:"
      ],
      "metadata": {
        "id": "M_ADG6wKnbA3"
      }
    },
    {
      "cell_type": "code",
      "source": [
        "import pandas as pd\n",
        "from sklearn.ensemble import RandomForestClassifier\n",
        "from sklearn.metrics import accuracy_score\n",
        "import numpy as np"
      ],
      "metadata": {
        "id": "GPj0syOOnd3v"
      },
      "execution_count": 1,
      "outputs": []
    },
    {
      "cell_type": "code",
      "source": [
        "# Load cleaned evaluation dataset\n",
        "eval_data = pd.read_csv(\"cleaned_adult_test.csv\")\n",
        "X_eval = eval_data.drop(columns=[\"income\"])\n",
        "y_eval = eval_data[\"income\"]"
      ],
      "metadata": {
        "id": "4POul3L3nyNZ"
      },
      "execution_count": 2,
      "outputs": []
    },
    {
      "cell_type": "code",
      "source": [
        "# Define sampling rates\n",
        "sampling_rates = [50, 60, 70, 80, 90]"
      ],
      "metadata": {
        "id": "cgd_tSIVn0ML"
      },
      "execution_count": 3,
      "outputs": []
    },
    {
      "cell_type": "code",
      "source": [
        "# Initialize lists to store error rates\n",
        "error_rates = []"
      ],
      "metadata": {
        "id": "20h1mNENn6YF"
      },
      "execution_count": 4,
      "outputs": []
    },
    {
      "cell_type": "code",
      "source": [
        "# Repeat the process 5 times for each sampling rate\n",
        "for rate in sampling_rates:\n",
        "    error_rates_for_rate = []\n",
        "    for _ in range(5):  # Repeat 5 times\n",
        "        # Load cleaned training dataset\n",
        "        train_data = pd.read_csv(\"cleaned_adult_train.csv\")\n",
        "\n",
        "        # Separate samples by income class\n",
        "        low_income_samples = train_data[train_data['income'] == 0].sample(frac=(rate/100))\n",
        "        high_income_samples = train_data[train_data['income'] == 1].sample(frac=(rate/100))\n",
        "\n",
        "        # Concatenate samples and shuffle\n",
        "        downsampled_train_data = pd.concat([low_income_samples, high_income_samples]).sample(frac=1)\n",
        "\n",
        "        # Separate features and labels\n",
        "        X_train = downsampled_train_data.drop(columns=[\"income\"])\n",
        "        y_train = downsampled_train_data[\"income\"]\n",
        "\n",
        "        # Initialize and train Random Forest classifier\n",
        "        rf_classifier = RandomForestClassifier(n_estimators=100, random_state=47)\n",
        "        rf_classifier.fit(X_train, y_train)\n",
        "\n",
        "        # Predict on evaluation dataset\n",
        "        y_pred = rf_classifier.predict(X_eval)\n",
        "\n",
        "        # Calculate error rate\n",
        "        error_rate = 1 - accuracy_score(y_eval, y_pred)\n",
        "        error_rates_for_rate.append(error_rate)\n",
        "\n",
        "    # Store mean and standard deviation for each rate\n",
        "    error_rates.append((rate, np.mean(error_rates_for_rate), np.std(error_rates_for_rate)))"
      ],
      "metadata": {
        "id": "pGe_Gtt-n9mK"
      },
      "execution_count": 5,
      "outputs": []
    },
    {
      "cell_type": "code",
      "source": [
        "# Print results\n",
        "print(\"Sampling Rate\\tMean Error Rate\\tStandard Deviation\")\n",
        "for rate, mean, std_dev in error_rates:\n",
        "    print(f\"{rate}%\\t\\t{mean:.6f}\\t\\t{std_dev:.6f}\")"
      ],
      "metadata": {
        "colab": {
          "base_uri": "https://localhost:8080/"
        },
        "id": "o726xzJEoIs8",
        "outputId": "ab71480c-6b1a-492b-8a27-8ddc2d2d9365"
      },
      "execution_count": 6,
      "outputs": [
        {
          "output_type": "stream",
          "name": "stdout",
          "text": [
            "Sampling Rate\tMean Error Rate\tStandard Deviation\n",
            "50%\t\t0.767096\t\t0.002165\n",
            "60%\t\t0.767301\t\t0.001447\n",
            "70%\t\t0.765105\t\t0.001416\n",
            "80%\t\t0.765848\t\t0.002814\n",
            "90%\t\t0.764600\t\t0.001410\n"
          ]
        }
      ]
    },
    {
      "cell_type": "markdown",
      "source": [
        "question 3:"
      ],
      "metadata": {
        "id": "LHM4uPXeJWvY"
      }
    },
    {
      "cell_type": "code",
      "source": [
        "import pandas as pd\n",
        "from sklearn.ensemble import RandomForestClassifier\n",
        "from sklearn.metrics import accuracy_score\n",
        "from sklearn.preprocessing import StandardScaler, OneHotEncoder\n",
        "from sklearn.compose import ColumnTransformer\n",
        "from sklearn.pipeline import Pipeline\n",
        "\n",
        "# Load cleaned training and evaluation datasets\n",
        "train_data = pd.read_csv(\"cleaned_adult_train.csv\")\n",
        "eval_data = pd.read_csv(\"cleaned_adult_test.csv\")\n",
        "\n",
        "# Separate features and labels\n",
        "X_train = train_data.drop(columns=[\"income\"])\n",
        "y_train = train_data[\"income\"]\n",
        "X_eval = eval_data.drop(columns=[\"income\"])\n",
        "y_eval = eval_data[\"income\"]\n",
        "\n",
        "# Define numerical and categorical features\n",
        "numerical_features = X_train.select_dtypes(include=[\"int64\", \"float64\"]).columns\n",
        "categorical_features = X_train.select_dtypes(include=[\"object\"]).columns\n",
        "\n",
        "# Define preprocessing steps for numerical and categorical features\n",
        "numerical_transformer = Pipeline(steps=[\n",
        "    ('scaler', StandardScaler())  # Scale numerical features\n",
        "])\n",
        "\n",
        "categorical_transformer = Pipeline(steps=[\n",
        "    ('onehot', OneHotEncoder(handle_unknown='ignore'))  # One-hot encode categorical features\n",
        "])\n",
        "\n",
        "# Combine preprocessing steps for numerical and categorical features\n",
        "preprocessor = ColumnTransformer(\n",
        "    transformers=[\n",
        "        ('num', numerical_transformer, numerical_features),\n",
        "        ('cat', categorical_transformer, categorical_features)\n",
        "    ])\n",
        "\n",
        "# Initialize and train Random Forest classifier with feature engineering\n",
        "rf_classifier = Pipeline(steps=[\n",
        "    ('preprocessor', preprocessor),\n",
        "    ('classifier', RandomForestClassifier(n_estimators=100, random_state=42))\n",
        "])\n",
        "\n",
        "rf_classifier.fit(X_train, y_train)\n",
        "\n",
        "# Predict on evaluation dataset\n",
        "y_pred = rf_classifier.predict(X_eval)\n",
        "\n",
        "# Calculate classification error rate\n",
        "classification_error_rate = 1 - accuracy_score(y_eval, y_pred)\n",
        "\n",
        "# Print classification error rate\n",
        "print(\"Classification Error Rate with Feature Engineering:\", classification_error_rate)\n"
      ],
      "metadata": {
        "colab": {
          "base_uri": "https://localhost:8080/"
        },
        "id": "xxlXmqt6JXn6",
        "outputId": "6abe0924-729a-4e01-c963-8b045caf2c65"
      },
      "execution_count": 32,
      "outputs": [
        {
          "output_type": "stream",
          "name": "stdout",
          "text": [
            "Classification Error Rate with Feature Engineering: 0.7624200300134271\n"
          ]
        }
      ]
    },
    {
      "cell_type": "markdown",
      "source": [
        "Question 5:"
      ],
      "metadata": {
        "id": "lkxlbKnIcaBx"
      }
    },
    {
      "cell_type": "code",
      "source": [
        "import pandas as pd\n",
        "from xgboost import XGBClassifier\n",
        "from sklearn.metrics import accuracy_score\n",
        "\n",
        "# Load cleaned training and evaluation datasets\n",
        "train_data = pd.read_csv(\"cleaned_adult_train.csv\")\n",
        "eval_data = pd.read_csv(\"cleaned_adult_test.csv\")\n",
        "\n",
        "# Separate features and labels\n",
        "X_train = train_data.drop(columns=[\"income\"])\n",
        "y_train = train_data[\"income\"]\n",
        "X_eval = eval_data.drop(columns=[\"income\"])\n",
        "y_eval = eval_data[\"income\"]\n",
        "\n",
        "# Initialize and train XGBoost classifier\n",
        "xgb_classifier = XGBClassifier(random_state=42)\n",
        "xgb_classifier.fit(X_train, y_train)\n",
        "\n",
        "# Predict on evaluation dataset\n",
        "y_pred = xgb_classifier.predict(X_eval)\n",
        "\n",
        "# Calculate classification error rate\n",
        "classification_error_rate = 1 - accuracy_score(y_eval, y_pred)\n",
        "\n",
        "# Print classification error rate\n",
        "print(\"Classification Error Rate with XGBoost:\", classification_error_rate)\n"
      ],
      "metadata": {
        "colab": {
          "base_uri": "https://localhost:8080/"
        },
        "id": "FG7I2u7qb9B_",
        "outputId": "fc3954ba-83b2-40d3-c9c7-5532d17c68a5"
      },
      "execution_count": 33,
      "outputs": [
        {
          "output_type": "stream",
          "name": "stdout",
          "text": [
            "Classification Error Rate with XGBoost: 0.7716610062396335\n"
          ]
        }
      ]
    }
  ]
}